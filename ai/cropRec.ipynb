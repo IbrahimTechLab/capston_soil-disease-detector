{
 "cells": [
  {
   "cell_type": "code",
   "execution_count": 113,
   "id": "8b3760ac",
   "metadata": {},
   "outputs": [],
   "source": [
    "import pandas as pd\n",
    "import numpy as np\n",
    "import seaborn as sns  \n",
    "import matplotlib.pyplot as plt\n",
    "from sklearn.model_selection import train_test_split\n",
    "from sklearn.ensemble import RandomForestClassifier\n",
    "from sklearn.metrics import classification_report, confusion_matrix, accuracy_score\n",
    "from sklearn.preprocessing import StandardScaler"
   ]
  },
  {
   "cell_type": "code",
   "execution_count": 114,
   "id": "a01771eb",
   "metadata": {},
   "outputs": [
    {
     "data": {
      "text/html": [
       "<div>\n",
       "<style scoped>\n",
       "    .dataframe tbody tr th:only-of-type {\n",
       "        vertical-align: middle;\n",
       "    }\n",
       "\n",
       "    .dataframe tbody tr th {\n",
       "        vertical-align: top;\n",
       "    }\n",
       "\n",
       "    .dataframe thead th {\n",
       "        text-align: right;\n",
       "    }\n",
       "</style>\n",
       "<table border=\"1\" class=\"dataframe\">\n",
       "  <thead>\n",
       "    <tr style=\"text-align: right;\">\n",
       "      <th></th>\n",
       "      <th>pH</th>\n",
       "      <th>N</th>\n",
       "      <th>P</th>\n",
       "      <th>K</th>\n",
       "      <th>humidite</th>\n",
       "      <th>texture_du_sol</th>\n",
       "      <th>culture</th>\n",
       "    </tr>\n",
       "  </thead>\n",
       "  <tbody>\n",
       "    <tr>\n",
       "      <th>0</th>\n",
       "      <td>5.63</td>\n",
       "      <td>48.71</td>\n",
       "      <td>24.58</td>\n",
       "      <td>63.87</td>\n",
       "      <td>23.32</td>\n",
       "      <td>sableux</td>\n",
       "      <td>mil</td>\n",
       "    </tr>\n",
       "    <tr>\n",
       "      <th>1</th>\n",
       "      <td>5.95</td>\n",
       "      <td>23.25</td>\n",
       "      <td>29.82</td>\n",
       "      <td>66.69</td>\n",
       "      <td>19.19</td>\n",
       "      <td>sableux</td>\n",
       "      <td>arachide</td>\n",
       "    </tr>\n",
       "    <tr>\n",
       "      <th>2</th>\n",
       "      <td>6.20</td>\n",
       "      <td>32.35</td>\n",
       "      <td>23.49</td>\n",
       "      <td>61.47</td>\n",
       "      <td>19.12</td>\n",
       "      <td>sablo-argileux</td>\n",
       "      <td>niebe</td>\n",
       "    </tr>\n",
       "    <tr>\n",
       "      <th>3</th>\n",
       "      <td>6.83</td>\n",
       "      <td>26.13</td>\n",
       "      <td>17.94</td>\n",
       "      <td>56.42</td>\n",
       "      <td>16.39</td>\n",
       "      <td>sableux</td>\n",
       "      <td>arachide</td>\n",
       "    </tr>\n",
       "    <tr>\n",
       "      <th>4</th>\n",
       "      <td>5.53</td>\n",
       "      <td>17.39</td>\n",
       "      <td>24.97</td>\n",
       "      <td>84.84</td>\n",
       "      <td>19.96</td>\n",
       "      <td>sableux</td>\n",
       "      <td>arachide</td>\n",
       "    </tr>\n",
       "    <tr>\n",
       "      <th>...</th>\n",
       "      <td>...</td>\n",
       "      <td>...</td>\n",
       "      <td>...</td>\n",
       "      <td>...</td>\n",
       "      <td>...</td>\n",
       "      <td>...</td>\n",
       "      <td>...</td>\n",
       "    </tr>\n",
       "    <tr>\n",
       "      <th>9995</th>\n",
       "      <td>7.02</td>\n",
       "      <td>34.49</td>\n",
       "      <td>34.16</td>\n",
       "      <td>66.83</td>\n",
       "      <td>18.18</td>\n",
       "      <td>limono-argileux</td>\n",
       "      <td>sorgho</td>\n",
       "    </tr>\n",
       "    <tr>\n",
       "      <th>9996</th>\n",
       "      <td>6.78</td>\n",
       "      <td>25.75</td>\n",
       "      <td>23.33</td>\n",
       "      <td>64.26</td>\n",
       "      <td>20.67</td>\n",
       "      <td>sablo-argileux</td>\n",
       "      <td>niebe</td>\n",
       "    </tr>\n",
       "    <tr>\n",
       "      <th>9997</th>\n",
       "      <td>6.14</td>\n",
       "      <td>43.37</td>\n",
       "      <td>16.72</td>\n",
       "      <td>64.36</td>\n",
       "      <td>19.97</td>\n",
       "      <td>sablo-argileux</td>\n",
       "      <td>niebe</td>\n",
       "    </tr>\n",
       "    <tr>\n",
       "      <th>9998</th>\n",
       "      <td>5.59</td>\n",
       "      <td>65.78</td>\n",
       "      <td>29.03</td>\n",
       "      <td>147.86</td>\n",
       "      <td>68.61</td>\n",
       "      <td>argileux</td>\n",
       "      <td>riz</td>\n",
       "    </tr>\n",
       "    <tr>\n",
       "      <th>9999</th>\n",
       "      <td>6.69</td>\n",
       "      <td>26.76</td>\n",
       "      <td>34.70</td>\n",
       "      <td>59.40</td>\n",
       "      <td>23.70</td>\n",
       "      <td>sablo-limoneux</td>\n",
       "      <td>arachide</td>\n",
       "    </tr>\n",
       "  </tbody>\n",
       "</table>\n",
       "<p>10000 rows × 7 columns</p>\n",
       "</div>"
      ],
      "text/plain": [
       "        pH      N      P       K  humidite   texture_du_sol   culture\n",
       "0     5.63  48.71  24.58   63.87     23.32          sableux       mil\n",
       "1     5.95  23.25  29.82   66.69     19.19          sableux  arachide\n",
       "2     6.20  32.35  23.49   61.47     19.12   sablo-argileux     niebe\n",
       "3     6.83  26.13  17.94   56.42     16.39          sableux  arachide\n",
       "4     5.53  17.39  24.97   84.84     19.96          sableux  arachide\n",
       "...    ...    ...    ...     ...       ...              ...       ...\n",
       "9995  7.02  34.49  34.16   66.83     18.18  limono-argileux    sorgho\n",
       "9996  6.78  25.75  23.33   64.26     20.67   sablo-argileux     niebe\n",
       "9997  6.14  43.37  16.72   64.36     19.97   sablo-argileux     niebe\n",
       "9998  5.59  65.78  29.03  147.86     68.61         argileux       riz\n",
       "9999  6.69  26.76  34.70   59.40     23.70   sablo-limoneux  arachide\n",
       "\n",
       "[10000 rows x 7 columns]"
      ]
     },
     "execution_count": 114,
     "metadata": {},
     "output_type": "execute_result"
    }
   ],
   "source": [
    "c_df = pd.read_csv('./data/dataset_recommandation_culture_sahel.csv')\n",
    "c_df"
   ]
  },
  {
   "cell_type": "code",
   "execution_count": 115,
   "id": "f8dd48db",
   "metadata": {},
   "outputs": [
    {
     "name": "stdout",
     "output_type": "stream",
     "text": [
      "Index(['pH', 'N', 'P', 'K', 'humidite', 'texture_du_sol', 'culture'], dtype='object')\n"
     ]
    }
   ],
   "source": [
    "print(c_df.columns)"
   ]
  },
  {
   "cell_type": "code",
   "execution_count": 116,
   "id": "b24e901f",
   "metadata": {},
   "outputs": [
    {
     "name": "stdout",
     "output_type": "stream",
     "text": [
      "culture\n",
      "sorgho      2081\n",
      "riz         2031\n",
      "niebe       2020\n",
      "mil         1949\n",
      "arachide    1919\n",
      "Name: count, dtype: int64\n"
     ]
    }
   ],
   "source": [
    "# Vérifier les valeurs uniques dans la colonne 'Crop'\n",
    "print(c_df['culture'].value_counts())\n"
   ]
  },
  {
   "cell_type": "code",
   "execution_count": 117,
   "id": "c7b45ed5",
   "metadata": {},
   "outputs": [],
   "source": [
    "from sklearn.preprocessing import LabelEncoder\n",
    "\n",
    "# Créer l'encodeur\n",
    "label_encoder = LabelEncoder()\n",
    "soil_encoder = LabelEncoder()\n",
    "soil_encoder.fit(c_df['texture_du_sol'])\n",
    "# Appliquer l'encodage sur la colonne \"culture\"\n",
    "c_df['culture_encoded'] = label_encoder.fit_transform(c_df['culture'])\n",
    "c_df['soil_type_encoder'] = label_encoder.fit_transform(c_df['texture_du_sol'])"
   ]
  },
  {
   "cell_type": "code",
   "execution_count": 118,
   "id": "0c3f9c07",
   "metadata": {},
   "outputs": [
    {
     "name": "stdout",
     "output_type": "stream",
     "text": [
      "Mapping des cultures (code -> nom) :\n",
      "0 correspond à Mil\n",
      "1 correspond à Maïs\n",
      "2 correspond à Sorgho\n",
      "3 correspond à Niébé\n",
      "4 correspond à Arachide\n",
      "\n",
      "Mapping des types de sol (code -> nom) :\n",
      "0 correspond à Argileux\n",
      "1 correspond à Limoneux\n",
      "2 correspond à Limono-argileux\n",
      "3 correspond à Sableux\n",
      "4 correspond à Sablo-argileux\n",
      "5 correspond à Sablo-limoneux\n"
     ]
    }
   ],
   "source": [
    "# Suppression des colonnes inutiles\n",
    "df = c_df.drop(columns=['culture', 'texture_du_sol'])\n",
    "\n",
    "# Séparer les features (X) et la cible (y)\n",
    "x = c_df.drop(columns=['culture', 'culture_encoded', 'texture_du_sol'])  # caractéristiques du sol\n",
    "y = c_df['culture_encoded']  # target encodée\n",
    "\n",
    "# Mapping manuel des cultures (code -> nom)\n",
    "culture_mapping = {\n",
    "    0: 'Mil',\n",
    "    1: 'Maïs',\n",
    "    2: 'Sorgho',\n",
    "    3: 'Niébé',\n",
    "    4: 'Arachide'\n",
    "}\n",
    "\n",
    "# Mapping manuel des types de sol (code -> nom)\n",
    "soil_mapping = {\n",
    "    0: 'Argileux',\n",
    "    1: 'Limoneux',\n",
    "    2: 'Limono-argileux',\n",
    "    3: 'Sableux',\n",
    "    4: 'Sablo-argileux',\n",
    "    5: 'Sablo-limoneux'\n",
    "}\n",
    "\n",
    "# Affichage des mappings pour les cultures\n",
    "print(\"Mapping des cultures (code -> nom) :\")\n",
    "for code, culture in culture_mapping.items():\n",
    "    print(f\"{code} correspond à {culture}\")\n",
    "\n",
    "# Affichage des mappings pour les types de sol\n",
    "print(\"\\nMapping des types de sol (code -> nom) :\")\n",
    "for code, soil in soil_mapping.items():\n",
    "    print(f\"{code} correspond à {soil}\")\n"
   ]
  },
  {
   "cell_type": "code",
   "execution_count": 119,
   "id": "bd37855f",
   "metadata": {},
   "outputs": [
    {
     "name": "stdout",
     "output_type": "stream",
     "text": [
      "Corrélations avec 'culture_encoded' :\n",
      "culture_encoded      1.000000\n",
      "N                    0.583356\n",
      "K                    0.464427\n",
      "humidite             0.449683\n",
      "P                    0.314178\n",
      "pH                   0.081477\n",
      "soil_type_encoder   -0.477491\n",
      "Name: culture_encoded, dtype: float64\n"
     ]
    },
    {
     "data": {
      "image/png": "[encoded data removed]",
      "text/plain": [
       "<Figure size 1000x800 with 2 Axes>"
      ]
     },
     "metadata": {},
     "output_type": "display_data"
    }
   ],
   "source": [
    "# Calculer la matrice de corrélation\n",
    "correlation_matrix = df.corr()\n",
    "\n",
    "# Afficher les corrélations avec 'Disease_encoded'\n",
    "cor_crop = correlation_matrix['culture_encoded'].sort_values(ascending=False)\n",
    "\n",
    "# Afficher les corrélations avec la colonne 'Disease_encoded'\n",
    "print(\"Corrélations avec 'culture_encoded' :\")\n",
    "print(cor_crop)\n",
    "\n",
    "# Afficher un heatmap de la matrice de corrélation pour une meilleure visualisation\n",
    "plt.figure(figsize=(10, 8))\n",
    "sns.heatmap(correlation_matrix, annot=True, cmap='coolwarm', fmt='.2f')\n",
    "plt.title(\"Matrice de Corrélation\")\n",
    "plt.show()"
   ]
  },
  {
   "cell_type": "code",
   "execution_count": 120,
   "id": "4c317084",
   "metadata": {},
   "outputs": [
    {
     "data": {
      "text/plain": [
       "0       1\n",
       "1       0\n",
       "2       2\n",
       "3       0\n",
       "4       0\n",
       "       ..\n",
       "9995    4\n",
       "9996    2\n",
       "9997    2\n",
       "9998    3\n",
       "9999    0\n",
       "Name: culture_encoded, Length: 10000, dtype: int32"
      ]
     },
     "execution_count": 120,
     "metadata": {},
     "output_type": "execute_result"
    }
   ],
   "source": [
    "y"
   ]
  },
  {
   "cell_type": "code",
   "execution_count": 121,
   "id": "344fc83e",
   "metadata": {},
   "outputs": [],
   "source": [
    "scaler = StandardScaler()\n",
    "\n",
    "# Appliquer le scaler sur toutes les features\n",
    "x = scaler.fit_transform(x)\n"
   ]
  },
  {
   "cell_type": "code",
   "execution_count": 122,
   "id": "b431eb13",
   "metadata": {},
   "outputs": [
    {
     "data": {
      "text/plain": [
       "array([[-1.24590431,  0.56870505, -0.04646554, -0.89065721, -0.21249526,\n",
       "         0.08614569],\n",
       "       [-0.65358523, -1.21507421,  0.54003823, -0.77359072, -0.5104504 ,\n",
       "         0.08614569],\n",
       "       [-0.19083595, -0.57750974, -0.16846728, -0.99028827, -0.51550048,\n",
       "         0.77863514],\n",
       "       ...,\n",
       "       [-0.30189578,  0.19457381, -0.9262212 , -0.87031587, -0.454178  ,\n",
       "         0.77863514],\n",
       "       [-1.31994419,  1.76466388,  0.45161496,  2.59601458,  3.0549111 ,\n",
       "        -1.99132267],\n",
       "       [ 0.71615264, -0.96915648,  1.08624786, -1.07622005, -0.1850805 ,\n",
       "         1.47112459]])"
      ]
     },
     "execution_count": 122,
     "metadata": {},
     "output_type": "execute_result"
    }
   ],
   "source": [
    "x"
   ]
  },
  {
   "cell_type": "code",
   "execution_count": 123,
   "id": "7cdad8a9",
   "metadata": {},
   "outputs": [
    {
     "name": "stdout",
     "output_type": "stream",
     "text": [
      "Taille des classes AVANT SMOTE : {4: 1665, 3: 1625, 2: 1616, 1: 1559, 0: 1535}\n",
      "Taille des classes APRÈS SMOTE : {1: 1665, 3: 1665, 0: 1665, 2: 1665, 4: 1665}\n"
     ]
    }
   ],
   "source": [
    "from imblearn.over_sampling import SMOTE\n",
    "from sklearn.model_selection import train_test_split\n",
    "\n",
    "# Séparation des données en training et test AVANT d'appliquer SMOTE\n",
    "x_train, x_test, y_train, y_test = train_test_split(x, y, test_size=0.2, stratify=y, random_state=42)\n",
    "\n",
    "# Application de SMOTE sur les données d'entraînement uniquement\n",
    "smote = SMOTE(random_state=42)\n",
    "x_train_resampled, y_train_resampled = smote.fit_resample(x_train, y_train)\n",
    "\n",
    "print(\"Taille des classes AVANT SMOTE :\", y_train.value_counts().to_dict())\n",
    "print(\"Taille des classes APRÈS SMOTE :\", dict(pd.Series(y_train_resampled).value_counts()))\n"
   ]
  },
  {
   "cell_type": "markdown",
   "id": "8758a9ff",
   "metadata": {},
   "source": [
    "from sklearn.ensemble import RandomForestClassifier\n",
    "from sklearn.model_selection import GridSearchCV\n",
    "\n",
    "# Définir la grille des hyperparamètres à tester\n",
    "param_grid = {\n",
    "    'n_estimators': [100, 200, 300],\n",
    "    'max_depth': [None, 10, 20],\n",
    "    'min_samples_split': [2, 5],\n",
    "    'min_samples_leaf': [1, 2],\n",
    "    'bootstrap': [True, False]\n",
    "}\n",
    "\n",
    "# Instancier le modèle de base\n",
    "rf = RandomForestClassifier(random_state=42)\n",
    "\n",
    "# GridSearch avec validation croisée (5-fold)\n",
    "grid_search = GridSearchCV(estimator=rf,\n",
    "                           param_grid=param_grid,\n",
    "                           cv=5,\n",
    "                           scoring='f1_weighted',\n",
    "                           verbose=2,\n",
    "                           n_jobs=-1)\n",
    "\n",
    "# Entraîner le GridSearch sur les données\n",
    "grid_search.fit(x_train, y_train)\n",
    "\n",
    "# Afficher les meilleurs hyperparamètres trouvés\n",
    "print(\"Meilleurs hyperparamètres :\")\n",
    "print(grid_search.best_params_)\n",
    "\n",
    "# Meilleur score obtenu\n",
    "print(\"Meilleur score F1 pondéré :\")\n",
    "print(grid_search.best_score_)\n"
   ]
  },
  {
   "cell_type": "code",
   "execution_count": 124,
   "id": "6bce9a1e",
   "metadata": {},
   "outputs": [
    {
     "data": {
      "image/png": "[encoded data removed]",
      "text/plain": [
       "<Figure size 1000x600 with 1 Axes>"
      ]
     },
     "metadata": {},
     "output_type": "display_data"
    }
   ],
   "source": [
    "import matplotlib.pyplot as plt\n",
    "import pandas as pd\n",
    "import seaborn as sns\n",
    "from sklearn.ensemble import RandomForestClassifier\n",
    "\n",
    "# Entraîner le modèle\n",
    "rf = RandomForestClassifier(random_state=42)\n",
    "rf.fit(x_train, y_train)\n",
    "\n",
    "# Récupérer les importances\n",
    "importances = rf.feature_importances_\n",
    "\n",
    "# Créer un DataFrame avec les noms des features\n",
    "feature_names = X.columns if isinstance(X, pd.DataFrame) else [f\"Feature {i}\" for i in range(x_train.shape[1])]\n",
    "feature_importances = pd.DataFrame({'Feature': feature_names, 'Importance': importances})\n",
    "\n",
    "# Trier par importance\n",
    "feature_importances = feature_importances.sort_values(by='Importance', ascending=False)\n",
    "\n",
    "# Visualisation\n",
    "plt.figure(figsize=(10, 6))\n",
    "sns.barplot(x='Importance', y='Feature', data=feature_importances, palette='viridis')\n",
    "plt.title('Importance des caractéristiques pour la prédiction des cultures')\n",
    "plt.tight_layout()\n",
    "plt.show()\n"
   ]
  },
  {
   "cell_type": "code",
   "execution_count": 125,
   "id": "86ad4161",
   "metadata": {},
   "outputs": [
    {
     "name": "stdout",
     "output_type": "stream",
     "text": [
      "Accuracy: 0.9015\n",
      "Classification Report:\n",
      "              precision    recall  f1-score   support\n",
      "\n",
      "           0       0.93      0.88      0.90       384\n",
      "           1       0.88      0.71      0.79       390\n",
      "           2       0.75      1.00      0.86       404\n",
      "           3       1.00      1.00      1.00       406\n",
      "           4       1.00      0.91      0.95       416\n",
      "\n",
      "    accuracy                           0.90      2000\n",
      "   macro avg       0.91      0.90      0.90      2000\n",
      "weighted avg       0.91      0.90      0.90      2000\n",
      "\n"
     ]
    }
   ],
   "source": [
    "from sklearn.ensemble import RandomForestClassifier\n",
    "from sklearn.metrics import accuracy_score, classification_report\n",
    "\n",
    "# Meilleurs hyperparamètres obtenus\n",
    "best_params = {\n",
    "    'bootstrap': False,\n",
    "    'max_depth': 10,\n",
    "    'min_samples_leaf': 1,\n",
    "    'min_samples_split': 2,\n",
    "    'n_estimators': 100\n",
    "}\n",
    "\n",
    "# Création du modèle RandomForest avec ces hyperparamètres\n",
    "rf_model = RandomForestClassifier(**best_params)\n",
    "\n",
    "# Entraîner le modèle sur les données d'entraînement\n",
    "rf_model.fit(x_train, y_train)\n",
    "\n",
    "# Prédictions sur les données de test\n",
    "y_pred = rf_model.predict(x_test)\n",
    "\n",
    "# Évaluation du modèle\n",
    "accuracy = accuracy_score(y_test, y_pred)\n",
    "print(f\"Accuracy: {accuracy}\")\n",
    "print(\"Classification Report:\")\n",
    "print(classification_report(y_test, y_pred))\n"
   ]
  },
  {
   "cell_type": "code",
   "execution_count": 126,
   "id": "346c89fb",
   "metadata": {},
   "outputs": [
    {
     "data": {
      "image/png": "[encoded data removed]",
      "text/plain": [
       "<Figure size 800x600 with 2 Axes>"
      ]
     },
     "metadata": {},
     "output_type": "display_data"
    }
   ],
   "source": [
    "\n",
    "# Matrice de confusion\n",
    "cm = confusion_matrix(y_test, y_pred)\n",
    "\n",
    "# Noms des classes (si tu veux les noms au lieu des chiffres, utilise ton mapping inversé ici)\n",
    "class_names = [culture_mapping[i] for i in sorted(culture_mapping)]\n",
    "\n",
    "# Affichage\n",
    "plt.figure(figsize=(8, 6))\n",
    "sns.heatmap(cm, annot=True, fmt='d', cmap='Blues', xticklabels=class_names, yticklabels=class_names)\n",
    "plt.xlabel('Prédit')\n",
    "plt.ylabel('Réel')\n",
    "plt.title('Matrice de confusion')\n",
    "plt.show()\n"
   ]
  },
  {
   "cell_type": "code",
   "execution_count": 128,
   "id": "2d908d18",
   "metadata": {},
   "outputs": [],
   "source": [
    "import pickle\n",
    "\n",
    "# Supposons que ton modèle s'appelle 'rf_model'\n",
    "with open('modele_recommandeur_cultures.pkl', 'wb') as f:\n",
    "    pickle.dump(rf_model, f)"
   ]
  },
  {
   "cell_type": "code",
   "execution_count": 129,
   "id": "7690f920",
   "metadata": {},
   "outputs": [],
   "source": [
    "# Charger le modèle depuis le fichier\n",
    "with open('modele_recommandeur_cultures.pkl', 'rb') as f:\n",
    "    modele_charge = pickle.load(f)\n"
   ]
  },
  {
   "cell_type": "code",
   "execution_count": 130,
   "id": "954e1333",
   "metadata": {},
   "outputs": [],
   "source": [
    "with open(\"scalerR.pkl\", \"wb\") as f:\n",
    "    pickle.dump(scaler, f)\n",
    "with open(\"scalerR.pkl\", \"rb\") as f:\n",
    "    loaded_scaler = pickle.load(f)"
   ]
  }
 ],
 "metadata": {
  "kernelspec": {
   "display_name": "base",
   "language": "python",
   "name": "python3"
  },
  "language_info": {
   "name": "python",
   "version": "3.11.7"
  }
 },
 "nbformat": 4,
 "nbformat_minor": 5
}
